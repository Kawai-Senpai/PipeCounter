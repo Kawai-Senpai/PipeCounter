{
 "cells": [
  {
   "cell_type": "code",
   "execution_count": 1,
   "metadata": {},
   "outputs": [],
   "source": [
    "from ultralytics import YOLO\n",
    "\n",
    "# Load a model\n",
    "#model = YOLO('yolov8n.yaml')  # build a new model from YAML\n",
    "model = YOLO('yolov8n.pt')  # load a pretrained model (recommended for training)\n",
    "#model = YOLO('yolov8n.yaml').load('yolov8n.pt')  # build from YAML and transfer weights"
   ]
  },
  {
   "cell_type": "code",
   "execution_count": 4,
   "metadata": {},
   "outputs": [
    {
     "name": "stdout",
     "output_type": "stream",
     "text": [
      "\n",
      "0: 480x640 91 Pipes, 43.9ms\n",
      "Speed: 10.0ms preprocess, 43.9ms inference, 151.7ms postprocess per image at shape (1, 3, 480, 640)\n",
      "tensor([0., 0., 0., 0., 0., 0., 0., 0., 0., 0., 0., 0., 0., 0., 0., 0., 0., 0., 0., 0., 0., 0., 0., 0., 0., 0., 0., 0., 0., 0., 0., 0., 0., 0., 0., 0., 0., 0., 0., 0., 0., 0., 0., 0., 0., 0., 0., 0., 0., 0., 0., 0., 0., 0., 0., 0., 0., 0., 0., 0., 0., 0., 0., 0., 0., 0., 0., 0., 0., 0., 0., 0., 0., 0., 0., 0., 0., 0., 0., 0., 0., 0., 0., 0., 0., 0., 0., 0., 0., 0., 0.],\n",
      "       device='cuda:0')\n",
      "tensor([[7668.4077, 4355.2837, 8063.5098, 4862.5200],\n",
      "        [7737.2334, 3489.3516, 8062.6675, 4069.0039],\n",
      "        [3585.3188, 3676.9058, 4191.1201, 4271.0591],\n",
      "        [6850.5820, 5145.9023, 7375.1865, 5639.1040],\n",
      "        [2714.6892, 5412.0864, 3312.1873, 5947.5391],\n",
      "        [6055.1426, 5182.0376, 6610.0962, 5693.1650],\n",
      "        [3122.5459, 4442.2417, 3650.5498, 4918.0503],\n",
      "        [4633.5391, 2852.8005, 5307.4883, 3487.3923],\n",
      "        [2197.0046,  859.3665, 2824.1067, 1477.8278],\n",
      "        [ 192.0491,  714.2325, 1030.4081, 1547.3252],\n",
      "        [2652.1245, 4617.5562, 3251.5278, 5204.0283],\n",
      "        [5239.9644, 4445.9810, 5819.0859, 5009.1357],\n",
      "        [3586.7808, 5347.5840, 4163.7998, 5868.3335],\n",
      "        [4398.9897, 4517.3760, 4997.7866, 5086.0000],\n",
      "        [ 203.7517, 1888.9730, 1032.1478, 2648.0400],\n",
      "        [6133.5049, 3563.2251, 6705.9551, 4123.1470],\n",
      "        [3243.1709, 2805.9021, 3786.1160, 3316.0706],\n",
      "        [6062.7969, 4419.4360, 6640.4834, 4977.9995],\n",
      "        [2348.1775, 5242.0649, 2873.2515, 5731.8916],\n",
      "        [ 844.6989, 5514.8145, 1542.2235, 6048.0000],\n",
      "        [1659.7992, 4705.5439, 2331.2605, 5300.1816],\n",
      "        [ 582.3074, 2909.6509, 1361.7668, 3632.3896],\n",
      "        [4035.3743, 3617.4333, 4546.7085, 4099.9434],\n",
      "        [4009.4485, 5157.0698, 4543.4487, 5678.6924],\n",
      "        [5657.0435, 2847.9429, 6290.9810, 3493.7021],\n",
      "        [1825.6833, 5433.1016, 2422.4607, 5999.3569],\n",
      "        [6903.5308, 4378.4805, 7449.3481, 4922.6201],\n",
      "        [7610.5073, 5116.4048, 8064.0000, 5587.5713],\n",
      "        [2250.2766, 4511.4966, 2789.6555, 4995.6377],\n",
      "        [2750.5947, 2874.4849, 3416.0798, 3515.2107],\n",
      "        [3193.0388, 5226.2373, 3694.0869, 5692.5933],\n",
      "        [6309.8516, 1839.9727, 6918.9702, 2465.0715],\n",
      "        [2296.6860, 2830.9167, 2875.1431, 3387.8701],\n",
      "        [3043.1909, 1894.1804, 3615.9065, 2472.7454],\n",
      "        [4185.4707, 2808.6836, 4708.8813, 3334.9617],\n",
      "        [3173.3623, 3616.1753, 3692.7515, 4107.2446],\n",
      "        [ 674.8422, 4757.6914, 1358.0221, 5361.7710],\n",
      "        [1372.4412, 1890.8862, 2120.4326, 2624.6287],\n",
      "        [1490.7994,  751.5464, 2275.7522, 1570.7118],\n",
      "        [6343.6514, 2743.9844, 6924.7324, 3315.0120],\n",
      "        [2659.8850, 3794.3726, 3333.9829, 4422.9834],\n",
      "        [5308.4785, 3610.8374, 5938.3774, 4223.5693],\n",
      "        [ 683.7841, 3818.3228, 1418.7295, 4497.5371],\n",
      "        [6954.2568, 3550.1797, 7535.0659, 4108.6450],\n",
      "        [6407.1436,  815.9042, 7131.2974, 1556.4602],\n",
      "        [3268.0557,  857.7567, 3881.0105, 1470.5707],\n",
      "        [4846.3750, 3532.0112, 5342.5049, 4009.7415],\n",
      "        [4455.6284, 3609.8113, 5069.5103, 4237.2212],\n",
      "        [5408.4062, 1862.9923, 6100.6982, 2513.2856],\n",
      "        [4371.5117,  829.1821, 5054.2695, 1556.5410],\n",
      "        [7243.4414,  848.4089, 7991.0220, 1547.2925],\n",
      "        [7205.5293, 1844.5358, 7856.2471, 2452.1775],\n",
      "        [7179.2617, 2715.8145, 7791.0479, 3294.9382],\n",
      "        [5581.8911, 5040.3403, 6064.8765, 5513.4126],\n",
      "        [1334.2687, 3724.9849, 1912.7374, 4240.3003],\n",
      "        [1705.1599, 2879.4280, 2422.2578, 3584.5757],\n",
      "        [5583.9932, 4314.1270, 6088.1714, 4804.6797],\n",
      "        [2294.0588, 3646.1956, 2839.8411, 4131.2388],\n",
      "        [3718.3342, 2866.4048, 4369.4307, 3504.0400],\n",
      "        [4477.6187, 1867.8427, 5159.3228, 2578.4707],\n",
      "        [1300.5236, 2848.3911, 1875.6838, 3402.8804],\n",
      "        [1695.1022, 3785.4116, 2379.7803, 4459.3584],\n",
      "        [2468.5156, 1895.9454, 3186.8052, 2603.9087],\n",
      "        [1467.5908, 5309.1562, 2011.1057, 5841.3511],\n",
      "        [2722.6055,  853.9412, 3328.6616, 1477.3674],\n",
      "        [1315.0159, 4567.4219, 1890.7412, 5086.3374],\n",
      "        [5373.4253,  835.7501, 6073.4253, 1541.3738],\n",
      "        [2011.5226, 1897.2943, 2643.8020, 2505.7871],\n",
      "        [3869.7993,  883.0159, 4438.9810, 1481.6531],\n",
      "        [4786.9409, 4356.5337, 5287.2788, 4832.8096],\n",
      "        [4011.2148, 1883.3442, 4580.1021, 2459.4639],\n",
      "        [3519.4487, 1894.5037, 4215.7036, 2671.4197],\n",
      "        [3967.2571, 4407.6025, 4473.9990, 4882.4536],\n",
      "        [ 981.5010, 1898.8201, 1566.7761, 2494.9736],\n",
      "        [4803.6646, 5108.6978, 5304.9019, 5534.5503],\n",
      "        [4856.1240,  887.4565, 5400.1924, 1489.2257],\n",
      "        [1125.7550,  834.5025, 1717.6466, 1471.3823],\n",
      "        [3528.6755, 4560.1484, 4143.5107, 5151.4316],\n",
      "        [5727.4448, 3544.1643, 6182.0322, 4003.6245],\n",
      "        [5276.1582, 5241.2607, 5802.2236, 5705.2490],\n",
      "        [6334.2544, 4983.0273, 6786.5732, 5420.0137],\n",
      "        [5842.9912,  877.5930, 6317.1938, 1486.8025],\n",
      "        [6674.8828, 1832.7616, 7170.9248, 2397.9375],\n",
      "        [5039.7456, 2754.7588, 5548.1353, 3272.3530],\n",
      "        [6388.3306, 4263.0986, 6847.3491, 4713.9595],\n",
      "        [7868.2119, 2638.9827, 8064.0000, 3231.0251],\n",
      "        [4884.5083, 1861.3398, 5407.4629, 2408.9954],\n",
      "        [7123.3604, 4961.5957, 7514.3726, 5342.7026],\n",
      "        [6960.5029, 4281.8525, 7532.2617, 4898.7075],\n",
      "        [4697.4180, 4353.2383, 5256.9214, 4969.9048],\n",
      "        [6671.1875, 2670.1650, 7068.7427, 3158.4583]], device='cuda:0')\n"
     ]
    }
   ],
   "source": [
    "# Run batched inference on a list of images\n",
    "results = model(['pipe/train/images/DJI_20240220122723_0022_D.JPG'], device = 0)  # return a list of Results objects\n",
    "\n",
    "# Process results list\n",
    "for result in results:\n",
    "    boxes = result.boxes  # Boxes object for bounding box outputs\n",
    "    masks = result.masks  # Masks object for segmentation masks outputs\n",
    "    keypoints = result.keypoints  # Keypoints object for pose outputs\n",
    "    probs = result.probs  # Probs object for classification outputs\n",
    "    result.show()  # display to screen\n",
    "    result.save(filename='result.jpg')  # save to disk\n",
    "    # Print the class labels and the bounding box coordinates\n",
    "    labels = boxes.cls  # a tensor of shape (N,)\n",
    "    coords = boxes.xyxy  # a tensor of shape (N, 4)\n",
    "    print(labels)\n",
    "    print(coords)"
   ]
  },
  {
   "cell_type": "code",
   "execution_count": 11,
   "metadata": {},
   "outputs": [
    {
     "name": "stdout",
     "output_type": "stream",
     "text": [
      "Ultralytics YOLOv8.1.18 🚀 Python-3.11.2 torch-2.0.0+cu118 CUDA:0 (NVIDIA GeForce RTX 2060, 6144MiB)\n",
      "\u001b[34m\u001b[1mengine\\trainer: \u001b[0mtask=detect, mode=train, model=yolov8n.pt, data=pipe.yaml, epochs=100, time=None, patience=100, batch=5, imgsz=640, save=True, save_period=-1, cache=False, device=0, workers=8, project=None, name=train3, exist_ok=False, pretrained=True, optimizer=auto, verbose=True, seed=0, deterministic=True, single_cls=False, rect=False, cos_lr=False, close_mosaic=10, resume=False, amp=True, fraction=1.0, profile=False, freeze=None, multi_scale=False, overlap_mask=True, mask_ratio=4, dropout=0.0, val=True, split=val, save_json=False, save_hybrid=False, conf=None, iou=0.7, max_det=300, half=False, dnn=False, plots=True, source=None, vid_stride=1, stream_buffer=False, visualize=False, augment=False, agnostic_nms=False, classes=None, retina_masks=False, embed=None, show=False, save_frames=False, save_txt=False, save_conf=False, save_crop=False, show_labels=True, show_conf=True, show_boxes=True, line_width=None, format=torchscript, keras=False, optimize=False, int8=False, dynamic=False, simplify=False, opset=None, workspace=4, nms=False, lr0=0.01, lrf=0.01, momentum=0.937, weight_decay=0.0005, warmup_epochs=3.0, warmup_momentum=0.8, warmup_bias_lr=0.0, box=7.5, cls=0.5, dfl=1.5, pose=12.0, kobj=1.0, label_smoothing=0.0, nbs=64, hsv_h=0.015, hsv_s=0.7, hsv_v=0.4, degrees=0.0, translate=0.1, scale=0.5, shear=0.0, perspective=0.0, flipud=0.0, fliplr=0.5, mosaic=1.0, mixup=0.0, copy_paste=0.0, auto_augment=randaugment, erasing=0.4, crop_fraction=1.0, cfg=None, tracker=botsort.yaml, save_dir=runs\\detect\\train3\n",
      "\n",
      "                   from  n    params  module                                       arguments                     \n",
      "  0                  -1  1       464  ultralytics.nn.modules.conv.Conv             [3, 16, 3, 2]                 \n",
      "  1                  -1  1      4672  ultralytics.nn.modules.conv.Conv             [16, 32, 3, 2]                \n",
      "  2                  -1  1      7360  ultralytics.nn.modules.block.C2f             [32, 32, 1, True]             \n",
      "  3                  -1  1     18560  ultralytics.nn.modules.conv.Conv             [32, 64, 3, 2]                \n",
      "  4                  -1  2     49664  ultralytics.nn.modules.block.C2f             [64, 64, 2, True]             \n",
      "  5                  -1  1     73984  ultralytics.nn.modules.conv.Conv             [64, 128, 3, 2]               \n",
      "  6                  -1  2    197632  ultralytics.nn.modules.block.C2f             [128, 128, 2, True]           \n",
      "  7                  -1  1    295424  ultralytics.nn.modules.conv.Conv             [128, 256, 3, 2]              \n",
      "  8                  -1  1    460288  ultralytics.nn.modules.block.C2f             [256, 256, 1, True]           \n",
      "  9                  -1  1    164608  ultralytics.nn.modules.block.SPPF            [256, 256, 5]                 \n",
      " 10                  -1  1         0  torch.nn.modules.upsampling.Upsample         [None, 2, 'nearest']          \n",
      " 11             [-1, 6]  1         0  ultralytics.nn.modules.conv.Concat           [1]                           \n",
      " 12                  -1  1    148224  ultralytics.nn.modules.block.C2f             [384, 128, 1]                 \n",
      " 13                  -1  1         0  torch.nn.modules.upsampling.Upsample         [None, 2, 'nearest']          \n",
      " 14             [-1, 4]  1         0  ultralytics.nn.modules.conv.Concat           [1]                           \n",
      " 15                  -1  1     37248  ultralytics.nn.modules.block.C2f             [192, 64, 1]                  \n",
      " 16                  -1  1     36992  ultralytics.nn.modules.conv.Conv             [64, 64, 3, 2]                \n",
      " 17            [-1, 12]  1         0  ultralytics.nn.modules.conv.Concat           [1]                           \n",
      " 18                  -1  1    123648  ultralytics.nn.modules.block.C2f             [192, 128, 1]                 \n",
      " 19                  -1  1    147712  ultralytics.nn.modules.conv.Conv             [128, 128, 3, 2]              \n",
      " 20             [-1, 9]  1         0  ultralytics.nn.modules.conv.Concat           [1]                           \n",
      " 21                  -1  1    493056  ultralytics.nn.modules.block.C2f             [384, 256, 1]                 \n",
      " 22        [15, 18, 21]  1    751507  ultralytics.nn.modules.head.Detect           [1, [64, 128, 256]]           \n",
      "Model summary: 225 layers, 3011043 parameters, 3011027 gradients, 8.2 GFLOPs\n",
      "\n",
      "Transferred 355/355 items from pretrained weights\n",
      "\u001b[34m\u001b[1mTensorBoard: \u001b[0mStart with 'tensorboard --logdir runs\\detect\\train3', view at http://localhost:6006/\n"
     ]
    },
    {
     "data": {
      "text/html": [
       "wandb version 0.16.3 is available!  To upgrade, please run:\n",
       " $ pip install wandb --upgrade"
      ],
      "text/plain": [
       "<IPython.core.display.HTML object>"
      ]
     },
     "metadata": {},
     "output_type": "display_data"
    },
    {
     "data": {
      "text/html": [
       "Tracking run with wandb version 0.15.3"
      ],
      "text/plain": [
       "<IPython.core.display.HTML object>"
      ]
     },
     "metadata": {},
     "output_type": "display_data"
    },
    {
     "data": {
      "text/html": [
       "Run data is saved locally in <code>e:\\Python and AI\\Deep Learning\\Yolo\\wandb\\run-20240227_001722-crf1f89y</code>"
      ],
      "text/plain": [
       "<IPython.core.display.HTML object>"
      ]
     },
     "metadata": {},
     "output_type": "display_data"
    },
    {
     "data": {
      "text/html": [
       "Syncing run <strong><a href='https://wandb.ai/bhowmickranitking/YOLOv8/runs/crf1f89y' target=\"_blank\">train3</a></strong> to <a href='https://wandb.ai/bhowmickranitking/YOLOv8' target=\"_blank\">Weights & Biases</a> (<a href='https://wandb.me/run' target=\"_blank\">docs</a>)<br/>"
      ],
      "text/plain": [
       "<IPython.core.display.HTML object>"
      ]
     },
     "metadata": {},
     "output_type": "display_data"
    },
    {
     "data": {
      "text/html": [
       " View project at <a href='https://wandb.ai/bhowmickranitking/YOLOv8' target=\"_blank\">https://wandb.ai/bhowmickranitking/YOLOv8</a>"
      ],
      "text/plain": [
       "<IPython.core.display.HTML object>"
      ]
     },
     "metadata": {},
     "output_type": "display_data"
    },
    {
     "data": {
      "text/html": [
       " View run at <a href='https://wandb.ai/bhowmickranitking/YOLOv8/runs/crf1f89y' target=\"_blank\">https://wandb.ai/bhowmickranitking/YOLOv8/runs/crf1f89y</a>"
      ],
      "text/plain": [
       "<IPython.core.display.HTML object>"
      ]
     },
     "metadata": {},
     "output_type": "display_data"
    },
    {
     "name": "stdout",
     "output_type": "stream",
     "text": [
      "Freezing layer 'model.22.dfl.conv.weight'\n",
      "\u001b[34m\u001b[1mAMP: \u001b[0mrunning Automatic Mixed Precision (AMP) checks with YOLOv8n...\n",
      "\u001b[34m\u001b[1mAMP: \u001b[0mchecks passed ✅\n"
     ]
    },
    {
     "name": "stderr",
     "output_type": "stream",
     "text": [
      "\u001b[34m\u001b[1mtrain: \u001b[0mScanning E:\\Python and AI\\Deep Learning\\Yolo\\pipe\\train\\labels.cache... 19 images, 0 backgrounds, 0 corrupt: 100%|██████████| 19/19 [00:00<?, ?it/s]"
     ]
    },
    {
     "name": "stdout",
     "output_type": "stream",
     "text": [
      "\u001b[34m\u001b[1malbumentations: \u001b[0mBlur(p=0.01, blur_limit=(3, 7)), MedianBlur(p=0.01, blur_limit=(3, 7)), ToGray(p=0.01), CLAHE(p=0.01, clip_limit=(1, 4.0), tile_grid_size=(8, 8))\n"
     ]
    },
    {
     "name": "stderr",
     "output_type": "stream",
     "text": [
      "\n",
      "\u001b[34m\u001b[1mval: \u001b[0mScanning E:\\Python and AI\\Deep Learning\\Yolo\\pipe\\train\\labels.cache... 19 images, 0 backgrounds, 0 corrupt: 100%|██████████| 19/19 [00:00<?, ?it/s]\n"
     ]
    }
   ],
   "source": [
    "# Train the model\n",
    "results = model.train(data='pipe.yaml',epochs=100, imgsz=640, device=0, batch = 5)  # train a new model for 100 epochs"
   ]
  },
  {
   "cell_type": "code",
   "execution_count": 3,
   "metadata": {},
   "outputs": [],
   "source": [
    "#load the model from runs\\detect\\train6\n",
    "model = YOLO('runs/detect/train3/weights/best.pt')  # load a pretrained model (recommended for training)"
   ]
  }
 ],
 "metadata": {
  "kernelspec": {
   "display_name": "Python 3",
   "language": "python",
   "name": "python3"
  },
  "language_info": {
   "codemirror_mode": {
    "name": "ipython",
    "version": 3
   },
   "file_extension": ".py",
   "mimetype": "text/x-python",
   "name": "python",
   "nbconvert_exporter": "python",
   "pygments_lexer": "ipython3",
   "version": "3.11.2"
  }
 },
 "nbformat": 4,
 "nbformat_minor": 2
}
